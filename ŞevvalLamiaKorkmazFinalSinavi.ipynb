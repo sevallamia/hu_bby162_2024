{
  "nbformat": 4,
  "nbformat_minor": 0,
  "metadata": {
    "colab": {
      "provenance": [],
      "include_colab_link": true
    },
    "kernelspec": {
      "name": "python3",
      "display_name": "Python 3"
    },
    "language_info": {
      "name": "python"
    }
  },
  "cells": [
    {
      "cell_type": "markdown",
      "metadata": {
        "id": "view-in-github",
        "colab_type": "text"
      },
      "source": [
        "<a href=\"https://colab.research.google.com/github/sevallamia/hu_bby162_2024/blob/main/%C5%9EevvalLamiaKorkmazFinalSinavi.ipynb\" target=\"_parent\"><img src=\"https://colab.research.google.com/assets/colab-badge.svg\" alt=\"Open In Colab\"/></a>"
      ]
    },
    {
      "cell_type": "markdown",
      "source": [
        "**Final Sınavına hoşgeldiniz!**"
      ],
      "metadata": {
        "id": "ItmuxWgBbkC1"
      }
    },
    {
      "cell_type": "markdown",
      "source": [
        "Canlı final sınavı, bilgisayar laboratuvarında bilgisayar başında yapılan ve teslim edilen sınavı ifade etmektedir. Canlı final sınavında yazmış olduğunuz kodlar sizin sorumluluğunuzdadır ve gerekirse hangi kodu neden yazdığınızı açık bir şekilde anlatabilmeniz gerekmektedir. Canlı final sınavı sırasında İnternet üzerindeki kaynaklar kullanılabilir ancak başka bir kişiden destek alınamaz.\n",
        "\n",
        "Canlı final sınavının teslim şekli önceki sınav ve projelerin teslim şekli ile aynıdır. \"Final Sınavı\" adlı Colab not defterinin bir kopyasını çıkarmalı, size ait olan bu kopya üzerinde soruları cevaplamalı, GitHub'daki ders deponuza size ait kopyayı yüklemeli ve not defterinin adresini metin alanına yazarak göndermelisiniz.\n",
        "\n",
        "Canlı final sınavının doğru şekilde tamamlanması da sınavın önemli bir parçasıdır. Sınav için gönderdiğiniz adresi kontrol ediniz ve doğru dosyayı depoya yerleştirdiği bizden emin olunuz. Teslim sürecinde yapılan hatalar sınavdan 0 puan almanıza yol açabilir!\n",
        "\n",
        "**Sınav süresi 60 dakikadır!**\n",
        "\n",
        "Önemli Not: Soruları cecaplarken sadece şu ana kadar öğrendiğiniz kod yapılarını kullanmanız gerekmektedir!!!"
      ],
      "metadata": {
        "id": "KGjdjR5RbTgH"
      }
    },
    {
      "cell_type": "markdown",
      "source": [
        "**----- Sorular -----**"
      ],
      "metadata": {
        "id": "zBvdh4s8cOqM"
      }
    },
    {
      "cell_type": "markdown",
      "source": [
        "**Soru 1:** Kod bölümünde yer alan listeyi ekrana aşağıda gösterildiği şekilde \"for\" döngüsü kullanarak yazdırın. Her kelimenin başındaki numara otomatik olarak verilmelidir. (5 Puan)\n",
        "\n",
        "1.   Açık Erişim\n",
        "2.   Açık Bilim\n",
        "3.   Açık Veri\n",
        "4.   Açık Eğitim\n",
        "5.   Açık Kültür"
      ],
      "metadata": {
        "id": "ma0FVqgQiLBe"
      }
    },
    {
      "cell_type": "code",
      "source": [
        "#Soru 1 bu bölümde kodlanmalıdır\n",
        "acikListe = [\"Açık Erişim\", \"Açık Bilim\", \"Açık Veri\", \"Açık Eğitim\", \"Açık Kültür\"]\n",
        "for kelime in acikListe:\n",
        "  print(kelime)\n",
        "\n",
        "\n"
      ],
      "metadata": {
        "id": "Fj7wkLMcjp_7",
        "colab": {
          "base_uri": "https://localhost:8080/"
        },
        "outputId": "cfac3c63-b36d-4da6-de5d-4e29e1fe12ec"
      },
      "execution_count": 28,
      "outputs": [
        {
          "output_type": "stream",
          "name": "stdout",
          "text": [
            "Açık Erişim\n",
            "Açık Bilim\n",
            "Açık Veri\n",
            "Açık Eğitim\n",
            "Açık Kültür\n"
          ]
        }
      ]
    },
    {
      "cell_type": "markdown",
      "source": [
        "**Soru 2:** Kod bölümünde yer alan boş sözlüğe klavyeden yeni veri ekleyecek kodu yazınız. Yeni veri hem anahtarı (key) hem de anahtara karşılık gelecek değerli (value) içermelidir. Veri girişi yapıldıktan sonra sözlüğün güncel hali de ekrana yazıdırılmalıdır. (5 Puan)"
      ],
      "metadata": {
        "id": "uZDiXJARgK4o"
      }
    },
    {
      "cell_type": "code",
      "source": [
        "#Soru 2 bu bölümde kodlanmalıdır\n",
        "sozluk = {}\n",
        "\n",
        "# Anahtar ve değeri kullanıcıdan al\n",
        "anahtar = input(\"Anahtar: \")\n",
        "deger = input(\"Değer: \")\n",
        "\n",
        "# Sözlüğe ekle\n",
        "sozluk[anahtar] = deger\n",
        "\n",
        "# Güncel sözlüğü yazdır\n",
        "print(f\"Güncel sözlük: {sozluk}\")\n",
        "\n",
        "\n"
      ],
      "metadata": {
        "id": "no7Zd1ZCh5U3",
        "colab": {
          "base_uri": "https://localhost:8080/"
        },
        "outputId": "d63c197b-916a-47e7-877d-88984199ef4b"
      },
      "execution_count": 29,
      "outputs": [
        {
          "output_type": "stream",
          "name": "stdout",
          "text": [
            "Anahtar: atkı\n",
            "Değer: kış\n",
            "Güncel sözlük: {'atkı': 'kış'}\n"
          ]
        }
      ]
    },
    {
      "cell_type": "markdown",
      "source": [
        "**Soru 3:** Herhangi bir metin dosyasında (ör: [veri.txt](https://drive.google.com/file/d/1WVCEET3G3ishvIR-V6lCav7jBgaZLT-o/view?usp=sharing)) satır satır yer alan verileri okuyup ekrana satır satır yazdıracak kodu yazınız. (10 Puan)"
      ],
      "metadata": {
        "id": "HnIqbjcCeNEV"
      }
    },
    {
      "cell_type": "code",
      "source": [
        "#Soru 3 bu bölümde kodlanmalıdır\n",
        "dosya_adi = \"veri.txt\"\n",
        "\n",
        "with open(dosya_adi, \"r\", encoding=\"utf-8\") as dosya:\n",
        "  satirlar = dosya,readlinse()\n",
        "  for satir in satirlar:\n",
        "    print(satir)\n",
        "\n",
        "\n",
        "\n"
      ],
      "metadata": {
        "id": "SjzG5g3ffTyv",
        "colab": {
          "base_uri": "https://localhost:8080/",
          "height": 211
        },
        "outputId": "e7db7483-030c-4bfd-b796-e5e90cee41c9"
      },
      "execution_count": 35,
      "outputs": [
        {
          "output_type": "error",
          "ename": "FileNotFoundError",
          "evalue": "[Errno 2] No such file or directory: 'veri.txt'",
          "traceback": [
            "\u001b[0;31m---------------------------------------------------------------------------\u001b[0m",
            "\u001b[0;31mFileNotFoundError\u001b[0m                         Traceback (most recent call last)",
            "\u001b[0;32m<ipython-input-35-38cf8c5f3324>\u001b[0m in \u001b[0;36m<cell line: 4>\u001b[0;34m()\u001b[0m\n\u001b[1;32m      2\u001b[0m \u001b[0mdosya_adi\u001b[0m \u001b[0;34m=\u001b[0m \u001b[0;34m\"veri.txt\"\u001b[0m\u001b[0;34m\u001b[0m\u001b[0;34m\u001b[0m\u001b[0m\n\u001b[1;32m      3\u001b[0m \u001b[0;34m\u001b[0m\u001b[0m\n\u001b[0;32m----> 4\u001b[0;31m \u001b[0;32mwith\u001b[0m \u001b[0mopen\u001b[0m\u001b[0;34m(\u001b[0m\u001b[0mdosya_adi\u001b[0m\u001b[0;34m,\u001b[0m \u001b[0;34m\"r\"\u001b[0m\u001b[0;34m,\u001b[0m \u001b[0mencoding\u001b[0m\u001b[0;34m=\u001b[0m\u001b[0;34m\"utf-8\"\u001b[0m\u001b[0;34m)\u001b[0m \u001b[0;32mas\u001b[0m \u001b[0mdosya\u001b[0m\u001b[0;34m:\u001b[0m\u001b[0;34m\u001b[0m\u001b[0;34m\u001b[0m\u001b[0m\n\u001b[0m\u001b[1;32m      5\u001b[0m   \u001b[0msatirlar\u001b[0m \u001b[0;34m=\u001b[0m \u001b[0mdosya\u001b[0m\u001b[0;34m,\u001b[0m\u001b[0mreadlinse\u001b[0m\u001b[0;34m(\u001b[0m\u001b[0;34m)\u001b[0m\u001b[0;34m\u001b[0m\u001b[0;34m\u001b[0m\u001b[0m\n\u001b[1;32m      6\u001b[0m   \u001b[0;32mfor\u001b[0m \u001b[0msatir\u001b[0m \u001b[0;32min\u001b[0m \u001b[0msatirlar\u001b[0m\u001b[0;34m:\u001b[0m\u001b[0;34m\u001b[0m\u001b[0;34m\u001b[0m\u001b[0m\n",
            "\u001b[0;31mFileNotFoundError\u001b[0m: [Errno 2] No such file or directory: 'veri.txt'"
          ]
        }
      ]
    },
    {
      "cell_type": "markdown",
      "source": [
        "**Soru 4:** Verilerin bir TXT dosyasında depolanabileceği basit bir adres defteri oluşturunuz. Adres defterindeki öğeler Ad-Soyad ve e-Posta olacaktır. Bu adres desteri uygulamasında bir menü yapısı (uygulama içinde fonksiyolar) olmalıdır. 1. seçenek adres defterindeki girişleri göstermeli, 2. seçenek adres defterine yeni veri eklemeli, 3. seçenek ise uygulamayı sonlandırmalıdır. (20 Puan)"
      ],
      "metadata": {
        "id": "p49cZFjJcXoS"
      }
    },
    {
      "cell_type": "code",
      "execution_count": null,
      "metadata": {
        "id": "3whYCDz3a8QZ",
        "colab": {
          "base_uri": "https://localhost:8080/"
        },
        "outputId": "730dbc09-4b68-4cf3-fe39-cfbbbae24759"
      },
      "outputs": [
        {
          "output_type": "stream",
          "name": "stdout",
          "text": [
            "\n",
            "Adres Defteri Uygulaması\n",
            "1. Adres defterini göster\n",
            "2. Adres defterine yeni veri ekle\n",
            "3. Uygulamayı sonlandır\n"
          ]
        }
      ],
      "source": [
        "#Soru 4 bu bölümde kodlanmalıdır\n",
        "\n",
        "def adres_defteri():\n",
        "  \"\"\"\n",
        "  Adres defteri uygulaması.\n",
        "  \"\"\"\n",
        "\n",
        "  dosya_adi = \"adres_defteri.txt\"\n",
        "  while True:\n",
        "    print(\"\\nAdres Defteri Uygulaması\")\n",
        "    print(\"1. Adres defterini göster\")\n",
        "    print(\"2. Adres defterine yeni veri ekle\")\n",
        "    print(\"3. Uygulamayı sonlandır\")\n",
        "\n",
        "    secim = input(\"\\nSeçiminiz: \")\n",
        "\n",
        "    if secim == \"1\":\n",
        "      # Adres defterini göster\n",
        "      try:\n",
        "        with open(dosya_adi, \"r\", encoding=\"utf-8\") as dosya:\n",
        "          satirlar = dosya.readlines()\n",
        "          for satir in satirlar:\n",
        "            ad_soyad, eposta = satir.split(\",\")\n",
        "            print(f\"Ad Soyad: {ad_soyad}, E-posta: {eposta}\")\n",
        "      except FileNotFoundError:\n",
        "        print(f\"Dosya '{dosya_adi}' bulunamadı.\")\n",
        "\n",
        "    elif secim == \"2\":\n",
        "      # Adres defterine yeni veri ekle\n",
        "      ad_soyad = input(\"Ad Soyad: \")\n",
        "      eposta = input(\"E-posta: \")\n",
        "      with open(dosya_adi, \"a\", encoding=\"utf-8\") as dosya:\n",
        "        dosya.write(f\"{ad_soyad},{eposta}\\n\")\n",
        "      print(f\"{ad_soyad} kişisi adres defterine eklendi.\")\n",
        "\n",
        "    elif secim == \"3\":\n",
        "      # Uygulamayı sonlandır\n",
        "      print(\"Uygulama sonlandırılıyor...\")\n",
        "      break\n",
        "\n",
        "    else:\n",
        "      print(\"Geçersiz seçim.\")\n",
        "\n",
        "adres_defteri()\n",
        "\n",
        "\n",
        "\n"
      ]
    }
  ]
}